{
 "cells": [
  {
   "cell_type": "code",
   "execution_count": 1,
   "id": "8492802c",
   "metadata": {},
   "outputs": [],
   "source": [
    "import torch\n",
    "import torch.nn as nn\n",
    "import torch.optim as optim\n",
    "import torch.nn.functional as F\n",
    "import torchvision\n",
    "import sklearn\n",
    "import numpy as np\n",
    "import pandas as pd \n",
    "from sklearn import datasets\n",
    "from sklearn.model_selection import train_test_split\n",
    "from sklearn.preprocessing import  OneHotEncoder\n",
    "import matplotlib.pyplot as plt\n",
    "import time"
   ]
  },
  {
   "cell_type": "code",
   "execution_count": 2,
   "id": "e0bd774d",
   "metadata": {},
   "outputs": [],
   "source": [
    "start=time.time()\n",
    "file=pd.read_csv('D:/桌面/sonar.csv',header=None)\n",
    "data=file.iloc[:,:40]\n",
    "target=file.iloc[:,-1]\n",
    "data=np.array(data,dtype=float)\n",
    "target=pd.get_dummies(target).iloc[:,0]\n",
    "data=np.array(data,dtype=float)\n",
    "target=np.array(target,dtype=float)\n",
    "x_train,x_test,y_train,y_test=train_test_split(data,target,test_size=0.25,random_state=5)"
   ]
  },
  {
   "cell_type": "code",
   "execution_count": 3,
   "id": "d877b7bf",
   "metadata": {},
   "outputs": [],
   "source": [
    "def gaussion_pdf(x_test, x):\n",
    "        temp1 = (x_test - x.mean(0)) * (x_test - x.mean(0))\n",
    "        temp2 = x.std(0) * x.std(0)\n",
    "        return np.exp(-temp1 / (2 * temp2)) / np.sqrt(2 * np.pi * temp2)"
   ]
  },
  {
   "cell_type": "code",
   "execution_count": 4,
   "id": "b9ce2ca7",
   "metadata": {},
   "outputs": [],
   "source": [
    "def predict(x_train,y_train,x_test):\n",
    "        assert len(x_test.shape) == 2\n",
    "        classes = np.unique(y_train)\n",
    "        pred_probs = []\n",
    "        for i in classes:\n",
    "            idx_i = y_train == i\n",
    "            p_y = len(idx_i) / len(y_train)\n",
    "            p_x_y = np.prod(gaussion_pdf(x_test,x_train[idx_i]), 1)\n",
    "            prob_i = p_y * p_x_y\n",
    "            pred_probs.append(prob_i)\n",
    "        pred_probs = np.vstack(pred_probs)\n",
    "        label_idx = pred_probs.argmax(0)\n",
    "        y_pred = classes[label_idx]\n",
    "        return y_pred"
   ]
  },
  {
   "cell_type": "code",
   "execution_count": 5,
   "id": "97cbbf15",
   "metadata": {},
   "outputs": [],
   "source": [
    "y_predict=predict(x_train,y_train,x_test)"
   ]
  },
  {
   "cell_type": "code",
   "execution_count": 6,
   "id": "2ada3922",
   "metadata": {},
   "outputs": [],
   "source": [
    "accuracy=(y_predict==y_test).sum().item()/len(y_test)"
   ]
  },
  {
   "cell_type": "code",
   "execution_count": 7,
   "id": "fca6e4e8",
   "metadata": {},
   "outputs": [
    {
     "name": "stdout",
     "output_type": "stream",
     "text": [
      "准确率为63.46%,用时0.04s\n"
     ]
    }
   ],
   "source": [
    "print('准确率为{:.2f}%,用时{:.2f}s'.format(accuracy*100.0,time.time()-start))"
   ]
  },
  {
   "cell_type": "code",
   "execution_count": null,
   "id": "91c26646",
   "metadata": {},
   "outputs": [],
   "source": []
  }
 ],
 "metadata": {
  "kernelspec": {
   "display_name": "Python 3",
   "language": "python",
   "name": "python3"
  },
  "language_info": {
   "codemirror_mode": {
    "name": "ipython",
    "version": 3
   },
   "file_extension": ".py",
   "mimetype": "text/x-python",
   "name": "python",
   "nbconvert_exporter": "python",
   "pygments_lexer": "ipython3",
   "version": "3.8.8"
  },
  "toc": {
   "base_numbering": 1,
   "nav_menu": {},
   "number_sections": true,
   "sideBar": true,
   "skip_h1_title": false,
   "title_cell": "Table of Contents",
   "title_sidebar": "Contents",
   "toc_cell": false,
   "toc_position": {},
   "toc_section_display": true,
   "toc_window_display": false
  },
  "varInspector": {
   "cols": {
    "lenName": 16,
    "lenType": 16,
    "lenVar": 40
   },
   "kernels_config": {
    "python": {
     "delete_cmd_postfix": "",
     "delete_cmd_prefix": "del ",
     "library": "var_list.py",
     "varRefreshCmd": "print(var_dic_list())"
    },
    "r": {
     "delete_cmd_postfix": ") ",
     "delete_cmd_prefix": "rm(",
     "library": "var_list.r",
     "varRefreshCmd": "cat(var_dic_list()) "
    }
   },
   "types_to_exclude": [
    "module",
    "function",
    "builtin_function_or_method",
    "instance",
    "_Feature"
   ],
   "window_display": false
  }
 },
 "nbformat": 4,
 "nbformat_minor": 5
}
