{
 "cells": [
  {
   "cell_type": "code",
   "execution_count": 1,
   "metadata": {
    "pycharm": {
     "is_executing": true
    }
   },
   "outputs": [],
   "source": [
    "import pandas as pd\n",
    "import numpy as np\n",
    "import torch\n",
    "import torchvision\n",
    "import torch.nn as nn\n",
    "import torch.optim as optim\n",
    "import matplotlib.pyplot as plt\n",
    "import torchvision.transforms as transforms\n",
    "from scipy.io import loadmat\n",
    "from matplotlib import pyplot as plt\n",
    "from mpl_toolkits.mplot3d import Axes3D\n",
    "import sklearn\n",
    "from sklearn import preprocessing\n",
    "from sklearn.feature_selection import VarianceThreshold\n",
    "from sklearn.ensemble import RandomForestClassifier as RFC\n",
    "from sklearn.neighbors import KNeighborsClassifier as KNN\n",
    "from sklearn.model_selection import cross_val_score\n",
    "from sklearn.feature_selection import SelectKBest,f_classif\n",
    "from sklearn.linear_model import LogisticRegression\n",
    "from sklearn.feature_selection import RFE\n",
    "from sklearn.preprocessing import Normalizer\n",
    "from sklearn.model_selection import train_test_split\n",
    "from sklearn.feature_selection import mutual_info_regression\n",
    "from sklearn.metrics import confusion_matrix\n",
    "from sklearn import metrics\n",
    "\n",
    "import time"
   ]
  },
  {
   "cell_type": "code",
   "execution_count": 2,
   "metadata": {
    "pycharm": {
     "is_executing": true,
     "name": "#%%\n"
    }
   },
   "outputs": [
    {
     "name": "stdout",
     "output_type": "stream",
     "text": [
      "(314368, 176)\n"
     ]
    }
   ],
   "source": [
    "start=time.time()\n",
    "dat = loadmat('./高光谱数据集/KSC.mat')['KSC']\n",
    "lab = loadmat('./高光谱数据集/KSC_gt.mat')['KSC_gt']\n",
    "\n",
    "dat = dat.reshape(-1, 176)  \n",
    "lab = lab.reshape(-1)\n",
    "print(dat.shape)\n",
    "\n",
    "data,label=[],[]\n",
    "for i in range(dat.shape[0]):\n",
    "    if lab[i].all()!=0:\n",
    "        data.append(dat[i,:])\n",
    "        label.append(lab[i])\n",
    "        \n",
    "data=np.array(data)\n",
    "label=np.array(label)\n",
    "        \n"
   ]
  },
  {
   "cell_type": "code",
   "execution_count": 3,
   "metadata": {
    "pycharm": {
     "is_executing": true
    }
   },
   "outputs": [
    {
     "name": "stdout",
     "output_type": "stream",
     "text": [
      "shape=(5211, 176)\n"
     ]
    }
   ],
   "source": [
    "data=preprocessing.StandardScaler().fit_transform(data)\n",
    "print ('shape={}'.format(data.shape))"
   ]
  },
  {
   "cell_type": "code",
   "execution_count": null,
   "metadata": {
    "pycharm": {
     "is_executing": true
    }
   },
   "outputs": [],
   "source": []
  },
  {
   "cell_type": "code",
   "execution_count": 4,
   "metadata": {
    "pycharm": {
     "is_executing": true,
     "name": "#%%\n"
    }
   },
   "outputs": [
    {
     "name": "stdout",
     "output_type": "stream",
     "text": [
      "(5211, 176)\n"
     ]
    }
   ],
   "source": [
    "selector = VarianceThreshold()  # 实例化，不填参数默认方差为0\n",
    "data = selector.fit_transform(data)\n",
    "print(data.shape)"
   ]
  },
  {
   "cell_type": "code",
   "execution_count": 5,
   "metadata": {
    "pycharm": {
     "is_executing": true,
     "name": "#%%\n"
    }
   },
   "outputs": [
    {
     "name": "stdout",
     "output_type": "stream",
     "text": [
      "(5211, 176)\n"
     ]
    }
   ],
   "source": [
    "median_num = np.median(data)\n",
    "data = VarianceThreshold(median_num).fit_transform(data)\n",
    "print(data.shape)"
   ]
  },
  {
   "cell_type": "code",
   "execution_count": 6,
   "metadata": {
    "pycharm": {
     "is_executing": true,
     "name": "#%%\n"
    }
   },
   "outputs": [
    {
     "name": "stdout",
     "output_type": "stream",
     "text": [
      "accuracy:0.862032598274209,time:2.707597494125366\n"
     ]
    }
   ],
   "source": [
    "acc = cross_val_score(KNN(), data, label, cv=5).mean()   \n",
    "print(\"accuracy:{},time:{}\".format(acc,time.time()-start))"
   ]
  },
  {
   "cell_type": "code",
   "execution_count": 7,
   "metadata": {
    "pycharm": {
     "is_executing": true
    }
   },
   "outputs": [],
   "source": [
    "def select_k(data,label):\n",
    "    results = SelectKBest(f_classif,k=120).fit(data,label)\n",
    "    print(results)\n",
    "    features = pd.DataFrame({\n",
    "    \"score\": results.scores_,\n",
    "    \"pvalue\": results.pvalues_,\n",
    "    \"select\": results.get_support()\n",
    "    })\n",
    "    features.sort_values(\"score\", ascending=False)\n",
    "    print(features)\n",
    "    index=results.get_support(indices=True)\n",
    "    print(index)\n",
    "    return index"
   ]
  },
  {
   "cell_type": "code",
   "execution_count": null,
   "metadata": {},
   "outputs": [],
   "source": []
  },
  {
   "cell_type": "code",
   "execution_count": 8,
   "metadata": {},
   "outputs": [],
   "source": [
    "def rfe(data,label):\n",
    "    results=RFE(estimator=LogisticRegression(),n_features_to_select=10)\n",
    "    print(results)\n",
    "    results.fit(data,label)"
   ]
  },
  {
   "cell_type": "code",
   "execution_count": 9,
   "metadata": {
    "pycharm": {
     "is_executing": true
    }
   },
   "outputs": [
    {
     "name": "stdout",
     "output_type": "stream",
     "text": [
      "SelectKBest(k=120)\n",
      "          score        pvalue  select\n",
      "0      5.342886  4.571589e-09   False\n",
      "1    628.181103  0.000000e+00   False\n",
      "2    564.241504  0.000000e+00   False\n",
      "3    577.317465  0.000000e+00   False\n",
      "4    632.796860  0.000000e+00   False\n",
      "..          ...           ...     ...\n",
      "171    2.236971  8.255060e-03   False\n",
      "172    0.911922  5.338891e-01   False\n",
      "173    6.680017  4.866397e-12   False\n",
      "174    3.143885  1.767045e-04   False\n",
      "175    6.598877  7.413556e-12   False\n",
      "\n",
      "[176 rows x 3 columns]\n",
      "[ 32  33  34  35  36  37  38  39  40  41  42  43  44  45  46  47  48  49\n",
      "  50  51  52  53  54  55  56  57  58  59  60  61  62  63  64  65  66  67\n",
      "  68  69  70  71  72  73  74  75  76  77  78  79  80  81  82  83  84  85\n",
      "  86  87  88  89  90  91  92  93  94  95  96  97  98  99 100 101 102 103\n",
      " 104 105 106 107 108 109 110 111 112 113 114 115 116 117 118 119 120 121\n",
      " 122 123 124 125 126 127 128 129 130 139 140 142 143 144 145 146 147 148\n",
      " 149 150 151 152 153 154 157 158 161 162 164 165]\n"
     ]
    }
   ],
   "source": [
    "index= select_k(data,label)\n",
    "#index=rfe(data,label)"
   ]
  },
  {
   "cell_type": "code",
   "execution_count": null,
   "metadata": {
    "pycharm": {
     "is_executing": true
    }
   },
   "outputs": [],
   "source": []
  },
  {
   "cell_type": "code",
   "execution_count": null,
   "metadata": {
    "pycharm": {
     "is_executing": true
    }
   },
   "outputs": [],
   "source": []
  },
  {
   "cell_type": "code",
   "execution_count": 10,
   "metadata": {
    "pycharm": {
     "is_executing": true
    }
   },
   "outputs": [],
   "source": [
    "def select_index_data(index,data,label):\n",
    "    data_after=[]\n",
    "    for i in index:\n",
    "        data_after.append(data[:,i])\n",
    "    data_after=np.array(data_after).transpose()\n",
    "    print(data_after.shape)\n",
    "    print(label.shape)\n",
    "    return train_test_split(data_after,label,test_size=0.3, random_state=1)"
   ]
  },
  {
   "cell_type": "code",
   "execution_count": 11,
   "metadata": {
    "pycharm": {
     "is_executing": true
    }
   },
   "outputs": [
    {
     "name": "stdout",
     "output_type": "stream",
     "text": [
      "(5211, 120)\n",
      "(5211,)\n"
     ]
    }
   ],
   "source": [
    "train_data,test_data,train_label,test_label=select_index_data(index,data,label)"
   ]
  },
  {
   "cell_type": "code",
   "execution_count": 12,
   "metadata": {
    "pycharm": {
     "is_executing": true
    }
   },
   "outputs": [],
   "source": [
    "def measure_feature(train_data,test_data,train_label,test_label,gamma,c):\n",
    "    clf = sklearn.svm.SVC(kernel='poly',gamma=gamma,C=c)\n",
    "    clf.fit(train_data,train_label)\n",
    "    predict = clf.predict(test_data)\n",
    "    clf.get_params(deep=True)\n",
    "    acc= sklearn.metrics.accuracy_score(test_label,predict)\n",
    "    f1=sklearn.metrics.f1_score(test_label,predict,average='micro')\n",
    "    recall=metrics.recall_score(test_label,predict,average='micro')\n",
    "    precision=metrics.precision_score(test_label,predict,average='micro')\n",
    "    return acc,f1,recall,precision"
   ]
  },
  {
   "cell_type": "code",
   "execution_count": null,
   "metadata": {},
   "outputs": [],
   "source": []
  },
  {
   "cell_type": "code",
   "execution_count": 13,
   "metadata": {
    "pycharm": {
     "is_executing": true
    }
   },
   "outputs": [
    {
     "name": "stdout",
     "output_type": "stream",
     "text": [
      "0.9958870304359748 0.9213554987212276\n",
      "0.9958870304359748 0.9213554987212276\n",
      "0.9958870304359748 0.9213554987212276\n",
      "0.9958870304359748 0.9213554987212276\n"
     ]
    }
   ],
   "source": [
    "gamma,c=0.125,60\n",
    "train_acc,train_f1,train_recall,train_precision=measure_feature(train_data,train_data,train_label,train_label,gamma,c)\n",
    "test_acc,test_f1,test_recall,test_precision=measure_feature(train_data,test_data,train_label,test_label,gamma,c)\n",
    "\n",
    "print(train_acc,test_acc)\n",
    "print(train_f1,test_f1)\n",
    "print(train_recall,test_recall)\n",
    "print(train_precision,test_precision)"
   ]
  },
  {
   "cell_type": "code",
   "execution_count": 14,
   "metadata": {
    "pycharm": {
     "is_executing": true
    }
   },
   "outputs": [
    {
     "name": "stdout",
     "output_type": "stream",
     "text": [
      "训练集准确率为0.9959，测试集准确率为0.9214\n"
     ]
    }
   ],
   "source": [
    "print('训练集准确率为{:.4f}，测试集准确率为{:.4f}'.format(train_acc,test_acc))"
   ]
  },
  {
   "cell_type": "code",
   "execution_count": null,
   "metadata": {
    "pycharm": {
     "is_executing": true
    }
   },
   "outputs": [],
   "source": []
  }
 ],
 "metadata": {
  "kernelspec": {
   "name": "pycharm-504b1230",
   "language": "python",
   "display_name": "PyCharm (深度学习大作业)"
  },
  "language_info": {
   "codemirror_mode": {
    "name": "ipython",
    "version": 3
   },
   "file_extension": ".py",
   "mimetype": "text/x-python",
   "name": "python",
   "nbconvert_exporter": "python",
   "pygments_lexer": "ipython3",
   "version": "3.8.8"
  }
 },
 "nbformat": 4,
 "nbformat_minor": 1
}