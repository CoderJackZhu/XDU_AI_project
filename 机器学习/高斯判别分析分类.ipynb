{
 "cells": [
  {
   "cell_type": "code",
   "execution_count": 1,
   "id": "33d4fe5c",
   "metadata": {},
   "outputs": [],
   "source": [
    "import torch\n",
    "import torch.nn as nn\n",
    "import torch.optim as optim\n",
    "import torch.nn.functional as F\n",
    "import torchvision\n",
    "import sklearn\n",
    "import numpy as np\n",
    "import pandas as pd \n",
    "from sklearn import datasets\n",
    "from sklearn.model_selection import train_test_split\n",
    "from sklearn.preprocessing import  OneHotEncoder\n",
    "import matplotlib.pyplot as plt\n",
    "import time "
   ]
  },
  {
   "cell_type": "code",
   "execution_count": 2,
   "id": "b86ff2e8",
   "metadata": {},
   "outputs": [],
   "source": [
    "start=time.time()\n",
    "file=pd.read_csv('D:/桌面/sonar.csv',header=None)"
   ]
  },
  {
   "cell_type": "code",
   "execution_count": 3,
   "id": "be84b0e2",
   "metadata": {},
   "outputs": [],
   "source": [
    "data=file.iloc[:,:40]\n",
    "target=file.iloc[:,-1]"
   ]
  },
  {
   "cell_type": "code",
   "execution_count": 4,
   "id": "45664790",
   "metadata": {},
   "outputs": [],
   "source": [
    "data=np.array(data,dtype=float)"
   ]
  },
  {
   "cell_type": "code",
   "execution_count": 5,
   "id": "90b3bd6c",
   "metadata": {},
   "outputs": [],
   "source": [
    "target=pd.get_dummies(target).iloc[:,0]"
   ]
  },
  {
   "cell_type": "code",
   "execution_count": null,
   "id": "6853202a",
   "metadata": {},
   "outputs": [],
   "source": []
  },
  {
   "cell_type": "code",
   "execution_count": 6,
   "id": "ef5667d0",
   "metadata": {},
   "outputs": [],
   "source": [
    "x_train,x_test,y_train,y_test=train_test_split(data,target,test_size=0.25,random_state=5)"
   ]
  },
  {
   "cell_type": "code",
   "execution_count": 7,
   "id": "2f594855",
   "metadata": {},
   "outputs": [],
   "source": [
    "positive_data=[]\n",
    "negative_data=[]\n",
    "positive_num=0\n",
    "negative_num=0\n",
    "for (data,label)in zip(x_train,y_train):\n",
    "    if label ==1:\n",
    "        positive_data.append(list(data))\n",
    "        positive_num+=1\n",
    "    else:\n",
    "        negative_data.append(list(data))\n",
    "        negative_num+=1\n",
    "    "
   ]
  },
  {
   "cell_type": "code",
   "execution_count": 8,
   "id": "b5f6b854",
   "metadata": {},
   "outputs": [],
   "source": [
    "row,col=np.shape(x_train)"
   ]
  },
  {
   "cell_type": "code",
   "execution_count": 9,
   "id": "2af84e31",
   "metadata": {},
   "outputs": [],
   "source": [
    "positive=positive_num*1.0/row\n",
    "negative=1-positive"
   ]
  },
  {
   "cell_type": "code",
   "execution_count": 10,
   "id": "da431520",
   "metadata": {},
   "outputs": [],
   "source": [
    "positive_data=np.array(positive_data)\n",
    "negative_data=np.array(negative_data)"
   ]
  },
  {
   "cell_type": "code",
   "execution_count": 11,
   "id": "32daa35b",
   "metadata": {},
   "outputs": [],
   "source": [
    "mean_positive=np.mean(positive_data,axis=0)"
   ]
  },
  {
   "cell_type": "code",
   "execution_count": 12,
   "id": "8e8b9598",
   "metadata": {},
   "outputs": [],
   "source": [
    "mean_negative=np.mean(negative_data,axis=0)"
   ]
  },
  {
   "cell_type": "code",
   "execution_count": 13,
   "id": "7b39b04c",
   "metadata": {},
   "outputs": [],
   "source": [
    "positive_deta=positive_data-mean_positive\n",
    "negative_deta=negative_data-mean_negative"
   ]
  },
  {
   "cell_type": "code",
   "execution_count": 14,
   "id": "a28bb4c9",
   "metadata": {},
   "outputs": [],
   "source": [
    "sigma=[]\n",
    "for deta in positive_deta:\n",
    "    deta=deta.reshape(1,col)\n",
    "    ans = deta.T.dot(deta)\n",
    "    sigma.append(ans)\n",
    "for deta in negative_deta:\n",
    "    deta=deta.reshape(1,col)\n",
    "    ans = deta.T.dot(deta)\n",
    "    sigma.append(ans)\n",
    "sigma=np.array(sigma)\n",
    "sigma=np.mean(sigma,axis=0)"
   ]
  },
  {
   "cell_type": "code",
   "execution_count": 15,
   "id": "8655a988",
   "metadata": {},
   "outputs": [],
   "source": [
    "mean_positive=mean_positive.reshape(1,col)\n",
    "mean_negative=mean_negative.reshape(1,col)"
   ]
  },
  {
   "cell_type": "code",
   "execution_count": 16,
   "id": "c2b11d0f",
   "metadata": {},
   "outputs": [],
   "source": [
    "def Gaussian(x,mean,cov):\n",
    "    dim=np.shape(cov)[0]\n",
    "    covdet = np.linalg.det(cov + np.eye(dim) * 0.001)\n",
    "    covinv = np.linalg.inv(cov + np.eye(dim) * 0.001)\n",
    "    xdiff = (x - mean).reshape((1, dim))\n",
    "    prob = 1.0 / (np.power(np.power(2 * np.pi, dim) * np.abs(covdet), 0.5)) * \\\n",
    "    np.exp(-0.5 * xdiff.dot(covinv).dot(xdiff.T))[0][0]\n",
    "    return prob"
   ]
  },
  {
   "cell_type": "code",
   "execution_count": 17,
   "id": "32ef0c04",
   "metadata": {},
   "outputs": [],
   "source": [
    "def predict(x_test,mean_positive,mean_negetive):\n",
    "    predict_label=[]\n",
    "    for data in x_test:\n",
    "        positive_pro=Gaussian(data, mean_positive, sigma)\n",
    "        negative_pro=Gaussian(data, mean_negetive, sigma)\n",
    "        if positive_pro>=negative_pro:\n",
    "            predict_label.append(1)\n",
    "        else:\n",
    "            predict_label.append(0)\n",
    "    return predict_label"
   ]
  },
  {
   "cell_type": "code",
   "execution_count": 18,
   "id": "a50e9361",
   "metadata": {},
   "outputs": [],
   "source": [
    "test_predict=predict(x_test,mean_positive,mean_negative)"
   ]
  },
  {
   "cell_type": "code",
   "execution_count": 19,
   "id": "44400dfc",
   "metadata": {},
   "outputs": [],
   "source": [
    "test_predict=np.array(test_predict)\n",
    "y_test=np.array(y_test)"
   ]
  },
  {
   "cell_type": "code",
   "execution_count": 20,
   "id": "bbd697a6",
   "metadata": {},
   "outputs": [],
   "source": [
    "accuracy=(test_predict==y_test).sum().item()/len(y_test)"
   ]
  },
  {
   "cell_type": "code",
   "execution_count": 21,
   "id": "8acfbbd8",
   "metadata": {},
   "outputs": [
    {
     "name": "stdout",
     "output_type": "stream",
     "text": [
      "用时0.21s,准确率为75.00%\n"
     ]
    }
   ],
   "source": [
    "print('用时{:.2f}s,准确率为{:.2f}%'.format(time.time()-start,accuracy*100.0))"
   ]
  },
  {
   "cell_type": "code",
   "execution_count": null,
   "id": "66198d4f",
   "metadata": {},
   "outputs": [],
   "source": []
  },
  {
   "cell_type": "code",
   "execution_count": null,
   "id": "1f7f617a",
   "metadata": {},
   "outputs": [],
   "source": []
  }
 ],
 "metadata": {
  "kernelspec": {
   "display_name": "Python 3",
   "language": "python",
   "name": "python3"
  },
  "language_info": {
   "codemirror_mode": {
    "name": "ipython",
    "version": 3
   },
   "file_extension": ".py",
   "mimetype": "text/x-python",
   "name": "python",
   "nbconvert_exporter": "python",
   "pygments_lexer": "ipython3",
   "version": "3.8.8"
  },
  "toc": {
   "base_numbering": 1,
   "nav_menu": {},
   "number_sections": true,
   "sideBar": true,
   "skip_h1_title": false,
   "title_cell": "Table of Contents",
   "title_sidebar": "Contents",
   "toc_cell": false,
   "toc_position": {},
   "toc_section_display": true,
   "toc_window_display": false
  },
  "varInspector": {
   "cols": {
    "lenName": 16,
    "lenType": 16,
    "lenVar": 40
   },
   "kernels_config": {
    "python": {
     "delete_cmd_postfix": "",
     "delete_cmd_prefix": "del ",
     "library": "var_list.py",
     "varRefreshCmd": "print(var_dic_list())"
    },
    "r": {
     "delete_cmd_postfix": ") ",
     "delete_cmd_prefix": "rm(",
     "library": "var_list.r",
     "varRefreshCmd": "cat(var_dic_list()) "
    }
   },
   "types_to_exclude": [
    "module",
    "function",
    "builtin_function_or_method",
    "instance",
    "_Feature"
   ],
   "window_display": false
  }
 },
 "nbformat": 4,
 "nbformat_minor": 5
}
